{
  "cells": [
    {
      "metadata": {
        "trusted": true
      },
      "cell_type": "code",
      "source": "import numpy as np\nimport pandas as pd\nimport matplotlib.pyplot as plt\nimport seaborn as sns\nfrom sklearn.metrics import accuracy_score\nfrom sklearn.metrics import confusion_matrix\nfrom sklearn.model_selection import train_test_split\nfrom sklearn.ensemble import RandomForestClassifier\nfrom sklearn.metrics import classification_report\nfrom sklearn.ensemble import AdaBoostClassifier",
      "execution_count": 1,
      "outputs": []
    },
    {
      "metadata": {
        "trusted": true
      },
      "cell_type": "code",
      "source": "train = pd.read_csv('train.csv')\ntest = pd.read_csv('test.csv')",
      "execution_count": 2,
      "outputs": []
    },
    {
      "metadata": {
        "trusted": true
      },
      "cell_type": "code",
      "source": "train.head()",
      "execution_count": 3,
      "outputs": [
        {
          "output_type": "execute_result",
          "execution_count": 3,
          "data": {
            "text/html": "<div>\n<style scoped>\n    .dataframe tbody tr th:only-of-type {\n        vertical-align: middle;\n    }\n\n    .dataframe tbody tr th {\n        vertical-align: top;\n    }\n\n    .dataframe thead th {\n        text-align: right;\n    }\n</style>\n<table border=\"1\" class=\"dataframe\">\n  <thead>\n    <tr style=\"text-align: right;\">\n      <th></th>\n      <th>Loan_Amount_Requested</th>\n      <th>Length_Employed</th>\n      <th>Home_Owner</th>\n      <th>Annual_Income</th>\n      <th>Income_Verified</th>\n      <th>Purpose_Of_Loan</th>\n      <th>Debt_To_Income</th>\n      <th>Inquiries_Last_6Mo</th>\n      <th>Months_Since_Deliquency</th>\n      <th>Number_Open_Accounts</th>\n      <th>Total_Accounts</th>\n      <th>Gender</th>\n      <th>Interest_Rate</th>\n    </tr>\n  </thead>\n  <tbody>\n    <tr>\n      <th>0</th>\n      <td>7,000</td>\n      <td>&lt; 1 year</td>\n      <td>Rent</td>\n      <td>68000.0</td>\n      <td>not verified</td>\n      <td>car</td>\n      <td>18.37</td>\n      <td>0</td>\n      <td>0</td>\n      <td>9</td>\n      <td>14</td>\n      <td>Female</td>\n      <td>1</td>\n    </tr>\n    <tr>\n      <th>1</th>\n      <td>30,000</td>\n      <td>4 years</td>\n      <td>Mortgage</td>\n      <td>NaN</td>\n      <td>VERIFIED - income</td>\n      <td>debt_consolidation</td>\n      <td>14.93</td>\n      <td>0</td>\n      <td>1</td>\n      <td>12</td>\n      <td>24</td>\n      <td>Female</td>\n      <td>3</td>\n    </tr>\n    <tr>\n      <th>2</th>\n      <td>24,725</td>\n      <td>7 years</td>\n      <td>Mortgage</td>\n      <td>75566.4</td>\n      <td>VERIFIED - income source</td>\n      <td>debt_consolidation</td>\n      <td>15.88</td>\n      <td>0</td>\n      <td>0</td>\n      <td>12</td>\n      <td>16</td>\n      <td>Male</td>\n      <td>3</td>\n    </tr>\n    <tr>\n      <th>3</th>\n      <td>16,000</td>\n      <td>&lt; 1 year</td>\n      <td>NaN</td>\n      <td>56160.0</td>\n      <td>VERIFIED - income source</td>\n      <td>debt_consolidation</td>\n      <td>14.34</td>\n      <td>3</td>\n      <td>0</td>\n      <td>16</td>\n      <td>22</td>\n      <td>Male</td>\n      <td>3</td>\n    </tr>\n    <tr>\n      <th>4</th>\n      <td>17,000</td>\n      <td>8 years</td>\n      <td>Own</td>\n      <td>96000.0</td>\n      <td>VERIFIED - income source</td>\n      <td>debt_consolidation</td>\n      <td>22.17</td>\n      <td>1</td>\n      <td>0</td>\n      <td>19</td>\n      <td>30</td>\n      <td>Female</td>\n      <td>1</td>\n    </tr>\n  </tbody>\n</table>\n</div>",
            "text/plain": "  Loan_Amount_Requested Length_Employed Home_Owner  Annual_Income  \\\n0                 7,000        < 1 year       Rent        68000.0   \n1                30,000         4 years   Mortgage            NaN   \n2                24,725         7 years   Mortgage        75566.4   \n3                16,000        < 1 year        NaN        56160.0   \n4                17,000         8 years        Own        96000.0   \n\n            Income_Verified     Purpose_Of_Loan  Debt_To_Income  \\\n0              not verified                 car           18.37   \n1         VERIFIED - income  debt_consolidation           14.93   \n2  VERIFIED - income source  debt_consolidation           15.88   \n3  VERIFIED - income source  debt_consolidation           14.34   \n4  VERIFIED - income source  debt_consolidation           22.17   \n\n   Inquiries_Last_6Mo  Months_Since_Deliquency  Number_Open_Accounts  \\\n0                   0                        0                     9   \n1                   0                        1                    12   \n2                   0                        0                    12   \n3                   3                        0                    16   \n4                   1                        0                    19   \n\n   Total_Accounts  Gender  Interest_Rate  \n0              14  Female              1  \n1              24  Female              3  \n2              16    Male              3  \n3              22    Male              3  \n4              30  Female              1  "
          },
          "metadata": {}
        }
      ]
    },
    {
      "metadata": {
        "trusted": true
      },
      "cell_type": "code",
      "source": "test.head()",
      "execution_count": 4,
      "outputs": [
        {
          "output_type": "execute_result",
          "execution_count": 4,
          "data": {
            "text/html": "<div>\n<style scoped>\n    .dataframe tbody tr th:only-of-type {\n        vertical-align: middle;\n    }\n\n    .dataframe tbody tr th {\n        vertical-align: top;\n    }\n\n    .dataframe thead th {\n        text-align: right;\n    }\n</style>\n<table border=\"1\" class=\"dataframe\">\n  <thead>\n    <tr style=\"text-align: right;\">\n      <th></th>\n      <th>Loan_Amount_Requested</th>\n      <th>Length_Employed</th>\n      <th>Home_Owner</th>\n      <th>Annual_Income</th>\n      <th>Income_Verified</th>\n      <th>Purpose_Of_Loan</th>\n      <th>Debt_To_Income</th>\n      <th>Inquiries_Last_6Mo</th>\n      <th>Months_Since_Deliquency</th>\n      <th>Number_Open_Accounts</th>\n      <th>Total_Accounts</th>\n      <th>Gender</th>\n    </tr>\n  </thead>\n  <tbody>\n    <tr>\n      <th>0</th>\n      <td>27,500</td>\n      <td>10+ years</td>\n      <td>Mortgage</td>\n      <td>129000.0</td>\n      <td>VERIFIED - income</td>\n      <td>debt_consolidation</td>\n      <td>12.87</td>\n      <td>0</td>\n      <td>1</td>\n      <td>10</td>\n      <td>37</td>\n      <td>Male</td>\n    </tr>\n    <tr>\n      <th>1</th>\n      <td>26,000</td>\n      <td>10+ years</td>\n      <td>NaN</td>\n      <td>110000.0</td>\n      <td>not verified</td>\n      <td>credit_card</td>\n      <td>11.37</td>\n      <td>0</td>\n      <td>0</td>\n      <td>6</td>\n      <td>23</td>\n      <td>Male</td>\n    </tr>\n    <tr>\n      <th>2</th>\n      <td>6,075</td>\n      <td>&lt; 1 year</td>\n      <td>Rent</td>\n      <td>75000.0</td>\n      <td>VERIFIED - income</td>\n      <td>debt_consolidation</td>\n      <td>6.83</td>\n      <td>2</td>\n      <td>0</td>\n      <td>5</td>\n      <td>20</td>\n      <td>Male</td>\n    </tr>\n    <tr>\n      <th>3</th>\n      <td>12,000</td>\n      <td>10+ years</td>\n      <td>Mortgage</td>\n      <td>73000.0</td>\n      <td>VERIFIED - income source</td>\n      <td>debt_consolidation</td>\n      <td>7.76</td>\n      <td>0</td>\n      <td>0</td>\n      <td>6</td>\n      <td>8</td>\n      <td>Male</td>\n    </tr>\n    <tr>\n      <th>4</th>\n      <td>35,000</td>\n      <td>&lt; 1 year</td>\n      <td>Mortgage</td>\n      <td>156000.0</td>\n      <td>not verified</td>\n      <td>debt_consolidation</td>\n      <td>9.62</td>\n      <td>0</td>\n      <td>1</td>\n      <td>9</td>\n      <td>21</td>\n      <td>Male</td>\n    </tr>\n  </tbody>\n</table>\n</div>",
            "text/plain": "  Loan_Amount_Requested Length_Employed Home_Owner  Annual_Income  \\\n0                27,500       10+ years   Mortgage       129000.0   \n1                26,000       10+ years        NaN       110000.0   \n2                 6,075        < 1 year       Rent        75000.0   \n3                12,000       10+ years   Mortgage        73000.0   \n4                35,000        < 1 year   Mortgage       156000.0   \n\n            Income_Verified     Purpose_Of_Loan  Debt_To_Income  \\\n0         VERIFIED - income  debt_consolidation           12.87   \n1              not verified         credit_card           11.37   \n2         VERIFIED - income  debt_consolidation            6.83   \n3  VERIFIED - income source  debt_consolidation            7.76   \n4              not verified  debt_consolidation            9.62   \n\n   Inquiries_Last_6Mo  Months_Since_Deliquency  Number_Open_Accounts  \\\n0                   0                        1                    10   \n1                   0                        0                     6   \n2                   2                        0                     5   \n3                   0                        0                     6   \n4                   0                        1                     9   \n\n   Total_Accounts Gender  \n0              37   Male  \n1              23   Male  \n2              20   Male  \n3               8   Male  \n4              21   Male  "
          },
          "metadata": {}
        }
      ]
    },
    {
      "metadata": {
        "trusted": true
      },
      "cell_type": "code",
      "source": "train.isnull().sum()",
      "execution_count": 5,
      "outputs": [
        {
          "output_type": "execute_result",
          "execution_count": 5,
          "data": {
            "text/plain": "Loan_Amount_Requested          0\nLength_Employed             7371\nHome_Owner                 25349\nAnnual_Income              25102\nIncome_Verified                0\nPurpose_Of_Loan                0\nDebt_To_Income                 0\nInquiries_Last_6Mo             0\nMonths_Since_Deliquency        0\nNumber_Open_Accounts           0\nTotal_Accounts                 0\nGender                         0\nInterest_Rate                  0\ndtype: int64"
          },
          "metadata": {}
        }
      ]
    },
    {
      "metadata": {
        "trusted": true
      },
      "cell_type": "code",
      "source": "test.isnull().sum()",
      "execution_count": 6,
      "outputs": [
        {
          "output_type": "execute_result",
          "execution_count": 6,
          "data": {
            "text/plain": "Loan_Amount_Requested          0\nLength_Employed             4936\nHome_Owner                 16711\nAnnual_Income              16898\nIncome_Verified                0\nPurpose_Of_Loan                0\nDebt_To_Income                 0\nInquiries_Last_6Mo             0\nMonths_Since_Deliquency        0\nNumber_Open_Accounts           0\nTotal_Accounts                 0\nGender                         0\ndtype: int64"
          },
          "metadata": {}
        }
      ]
    },
    {
      "metadata": {
        "trusted": true
      },
      "cell_type": "code",
      "source": "train = train.drop(columns=['Length_Employed', 'Number_Open_Accounts','Total_Accounts','Gender','Home_Owner'], axis=1)\ntest = test.drop(columns=['Length_Employed', 'Number_Open_Accounts','Total_Accounts','Gender','Home_Owner'], axis=1)",
      "execution_count": 7,
      "outputs": []
    },
    {
      "metadata": {
        "trusted": true
      },
      "cell_type": "code",
      "source": "train.head()",
      "execution_count": 8,
      "outputs": [
        {
          "output_type": "execute_result",
          "execution_count": 8,
          "data": {
            "text/html": "<div>\n<style scoped>\n    .dataframe tbody tr th:only-of-type {\n        vertical-align: middle;\n    }\n\n    .dataframe tbody tr th {\n        vertical-align: top;\n    }\n\n    .dataframe thead th {\n        text-align: right;\n    }\n</style>\n<table border=\"1\" class=\"dataframe\">\n  <thead>\n    <tr style=\"text-align: right;\">\n      <th></th>\n      <th>Loan_Amount_Requested</th>\n      <th>Annual_Income</th>\n      <th>Income_Verified</th>\n      <th>Purpose_Of_Loan</th>\n      <th>Debt_To_Income</th>\n      <th>Inquiries_Last_6Mo</th>\n      <th>Months_Since_Deliquency</th>\n      <th>Interest_Rate</th>\n    </tr>\n  </thead>\n  <tbody>\n    <tr>\n      <th>0</th>\n      <td>7,000</td>\n      <td>68000.0</td>\n      <td>not verified</td>\n      <td>car</td>\n      <td>18.37</td>\n      <td>0</td>\n      <td>0</td>\n      <td>1</td>\n    </tr>\n    <tr>\n      <th>1</th>\n      <td>30,000</td>\n      <td>NaN</td>\n      <td>VERIFIED - income</td>\n      <td>debt_consolidation</td>\n      <td>14.93</td>\n      <td>0</td>\n      <td>1</td>\n      <td>3</td>\n    </tr>\n    <tr>\n      <th>2</th>\n      <td>24,725</td>\n      <td>75566.4</td>\n      <td>VERIFIED - income source</td>\n      <td>debt_consolidation</td>\n      <td>15.88</td>\n      <td>0</td>\n      <td>0</td>\n      <td>3</td>\n    </tr>\n    <tr>\n      <th>3</th>\n      <td>16,000</td>\n      <td>56160.0</td>\n      <td>VERIFIED - income source</td>\n      <td>debt_consolidation</td>\n      <td>14.34</td>\n      <td>3</td>\n      <td>0</td>\n      <td>3</td>\n    </tr>\n    <tr>\n      <th>4</th>\n      <td>17,000</td>\n      <td>96000.0</td>\n      <td>VERIFIED - income source</td>\n      <td>debt_consolidation</td>\n      <td>22.17</td>\n      <td>1</td>\n      <td>0</td>\n      <td>1</td>\n    </tr>\n  </tbody>\n</table>\n</div>",
            "text/plain": "  Loan_Amount_Requested  Annual_Income           Income_Verified  \\\n0                 7,000        68000.0              not verified   \n1                30,000            NaN         VERIFIED - income   \n2                24,725        75566.4  VERIFIED - income source   \n3                16,000        56160.0  VERIFIED - income source   \n4                17,000        96000.0  VERIFIED - income source   \n\n      Purpose_Of_Loan  Debt_To_Income  Inquiries_Last_6Mo  \\\n0                 car           18.37                   0   \n1  debt_consolidation           14.93                   0   \n2  debt_consolidation           15.88                   0   \n3  debt_consolidation           14.34                   3   \n4  debt_consolidation           22.17                   1   \n\n   Months_Since_Deliquency  Interest_Rate  \n0                        0              1  \n1                        1              3  \n2                        0              3  \n3                        0              3  \n4                        0              1  "
          },
          "metadata": {}
        }
      ]
    },
    {
      "metadata": {
        "trusted": true
      },
      "cell_type": "code",
      "source": "test.head()",
      "execution_count": 9,
      "outputs": [
        {
          "output_type": "execute_result",
          "execution_count": 9,
          "data": {
            "text/html": "<div>\n<style scoped>\n    .dataframe tbody tr th:only-of-type {\n        vertical-align: middle;\n    }\n\n    .dataframe tbody tr th {\n        vertical-align: top;\n    }\n\n    .dataframe thead th {\n        text-align: right;\n    }\n</style>\n<table border=\"1\" class=\"dataframe\">\n  <thead>\n    <tr style=\"text-align: right;\">\n      <th></th>\n      <th>Loan_Amount_Requested</th>\n      <th>Annual_Income</th>\n      <th>Income_Verified</th>\n      <th>Purpose_Of_Loan</th>\n      <th>Debt_To_Income</th>\n      <th>Inquiries_Last_6Mo</th>\n      <th>Months_Since_Deliquency</th>\n    </tr>\n  </thead>\n  <tbody>\n    <tr>\n      <th>0</th>\n      <td>27,500</td>\n      <td>129000.0</td>\n      <td>VERIFIED - income</td>\n      <td>debt_consolidation</td>\n      <td>12.87</td>\n      <td>0</td>\n      <td>1</td>\n    </tr>\n    <tr>\n      <th>1</th>\n      <td>26,000</td>\n      <td>110000.0</td>\n      <td>not verified</td>\n      <td>credit_card</td>\n      <td>11.37</td>\n      <td>0</td>\n      <td>0</td>\n    </tr>\n    <tr>\n      <th>2</th>\n      <td>6,075</td>\n      <td>75000.0</td>\n      <td>VERIFIED - income</td>\n      <td>debt_consolidation</td>\n      <td>6.83</td>\n      <td>2</td>\n      <td>0</td>\n    </tr>\n    <tr>\n      <th>3</th>\n      <td>12,000</td>\n      <td>73000.0</td>\n      <td>VERIFIED - income source</td>\n      <td>debt_consolidation</td>\n      <td>7.76</td>\n      <td>0</td>\n      <td>0</td>\n    </tr>\n    <tr>\n      <th>4</th>\n      <td>35,000</td>\n      <td>156000.0</td>\n      <td>not verified</td>\n      <td>debt_consolidation</td>\n      <td>9.62</td>\n      <td>0</td>\n      <td>1</td>\n    </tr>\n  </tbody>\n</table>\n</div>",
            "text/plain": "  Loan_Amount_Requested  Annual_Income           Income_Verified  \\\n0                27,500       129000.0         VERIFIED - income   \n1                26,000       110000.0              not verified   \n2                 6,075        75000.0         VERIFIED - income   \n3                12,000        73000.0  VERIFIED - income source   \n4                35,000       156000.0              not verified   \n\n      Purpose_Of_Loan  Debt_To_Income  Inquiries_Last_6Mo  \\\n0  debt_consolidation           12.87                   0   \n1         credit_card           11.37                   0   \n2  debt_consolidation            6.83                   2   \n3  debt_consolidation            7.76                   0   \n4  debt_consolidation            9.62                   0   \n\n   Months_Since_Deliquency  \n0                        1  \n1                        0  \n2                        0  \n3                        0  \n4                        1  "
          },
          "metadata": {}
        }
      ]
    },
    {
      "metadata": {
        "trusted": true
      },
      "cell_type": "code",
      "source": "train.isnull().sum()",
      "execution_count": 10,
      "outputs": [
        {
          "output_type": "execute_result",
          "execution_count": 10,
          "data": {
            "text/plain": "Loan_Amount_Requested          0\nAnnual_Income              25102\nIncome_Verified                0\nPurpose_Of_Loan                0\nDebt_To_Income                 0\nInquiries_Last_6Mo             0\nMonths_Since_Deliquency        0\nInterest_Rate                  0\ndtype: int64"
          },
          "metadata": {}
        }
      ]
    },
    {
      "metadata": {
        "trusted": true
      },
      "cell_type": "code",
      "source": "test.isnull().sum()",
      "execution_count": 11,
      "outputs": [
        {
          "output_type": "execute_result",
          "execution_count": 11,
          "data": {
            "text/plain": "Loan_Amount_Requested          0\nAnnual_Income              16898\nIncome_Verified                0\nPurpose_Of_Loan                0\nDebt_To_Income                 0\nInquiries_Last_6Mo             0\nMonths_Since_Deliquency        0\ndtype: int64"
          },
          "metadata": {}
        }
      ]
    },
    {
      "metadata": {
        "trusted": true
      },
      "cell_type": "code",
      "source": "train.Annual_Income=train.Annual_Income.astype('float')\ntest.Annual_Income=test.Annual_Income.astype('float')",
      "execution_count": 12,
      "outputs": []
    },
    {
      "metadata": {
        "trusted": true
      },
      "cell_type": "code",
      "source": "train.Annual_Income.dtype",
      "execution_count": 13,
      "outputs": [
        {
          "output_type": "execute_result",
          "execution_count": 13,
          "data": {
            "text/plain": "dtype('float64')"
          },
          "metadata": {}
        }
      ]
    },
    {
      "metadata": {
        "trusted": true
      },
      "cell_type": "code",
      "source": "train.Annual_Income= np.log(train.Annual_Income)\ntest.Annual_Income= np.log(test.Annual_Income)",
      "execution_count": 14,
      "outputs": []
    },
    {
      "metadata": {
        "trusted": true
      },
      "cell_type": "code",
      "source": "train.Annual_Income",
      "execution_count": 15,
      "outputs": [
        {
          "output_type": "execute_result",
          "execution_count": 15,
          "data": {
            "text/plain": "0         11.127263\n1               NaN\n2         11.232767\n3         10.935960\n4         11.472103\n5         10.308953\n6         11.350407\n7         11.652687\n8               NaN\n9         12.001505\n10        11.034890\n11        11.156251\n12        10.915088\n13              NaN\n14         9.680344\n15        11.522876\n16              NaN\n17        10.819778\n18        11.034890\n19         9.903488\n20        10.915088\n21        10.915088\n22        10.778956\n23        10.747208\n24              NaN\n25        11.314475\n26        11.736069\n27              NaN\n28        10.184900\n29        11.314475\n            ...    \n164279    10.616437\n164280    10.778956\n164281          NaN\n164282    11.097410\n164283    11.034890\n164284    11.521925\n164285    11.082143\n164286    12.043554\n164287    11.097410\n164288    10.308953\n164289          NaN\n164290    10.571317\n164291    10.819778\n164292    11.018629\n164293    11.407565\n164294    10.915088\n164295    10.014850\n164296    11.289782\n164297    10.819778\n164298    11.156251\n164299    10.714418\n164300    11.589887\n164301          NaN\n164302    11.608236\n164303    11.652687\n164304          NaN\n164305          NaN\n164306          NaN\n164307          NaN\n164308          NaN\nName: Annual_Income, Length: 164309, dtype: float64"
          },
          "metadata": {}
        }
      ]
    },
    {
      "metadata": {
        "trusted": true
      },
      "cell_type": "code",
      "source": "mean_train = train.Annual_Income.mean(skipna=True)\nmean_test = test.Annual_Income.mean(skipna=True)",
      "execution_count": 16,
      "outputs": []
    },
    {
      "metadata": {
        "trusted": true
      },
      "cell_type": "code",
      "source": "mean_train",
      "execution_count": 17,
      "outputs": [
        {
          "output_type": "execute_result",
          "execution_count": 17,
          "data": {
            "text/plain": "11.057788185425027"
          },
          "metadata": {}
        }
      ]
    },
    {
      "metadata": {
        "trusted": true
      },
      "cell_type": "code",
      "source": "mean_test",
      "execution_count": 18,
      "outputs": [
        {
          "output_type": "execute_result",
          "execution_count": 18,
          "data": {
            "text/plain": "11.058882292997401"
          },
          "metadata": {}
        }
      ]
    },
    {
      "metadata": {
        "trusted": true
      },
      "cell_type": "code",
      "source": "train.Annual_Income = train.Annual_Income.replace(np.NaN, mean_train)\ntest.Annual_Income = test.Annual_Income.replace(np.NaN, mean_test)",
      "execution_count": 19,
      "outputs": []
    },
    {
      "metadata": {
        "trusted": true
      },
      "cell_type": "code",
      "source": "train.isnull().sum()",
      "execution_count": 20,
      "outputs": [
        {
          "output_type": "execute_result",
          "execution_count": 20,
          "data": {
            "text/plain": "Loan_Amount_Requested      0\nAnnual_Income              0\nIncome_Verified            0\nPurpose_Of_Loan            0\nDebt_To_Income             0\nInquiries_Last_6Mo         0\nMonths_Since_Deliquency    0\nInterest_Rate              0\ndtype: int64"
          },
          "metadata": {}
        }
      ]
    },
    {
      "metadata": {
        "trusted": true
      },
      "cell_type": "code",
      "source": "test.isnull().sum()",
      "execution_count": 21,
      "outputs": [
        {
          "output_type": "execute_result",
          "execution_count": 21,
          "data": {
            "text/plain": "Loan_Amount_Requested      0\nAnnual_Income              0\nIncome_Verified            0\nPurpose_Of_Loan            0\nDebt_To_Income             0\nInquiries_Last_6Mo         0\nMonths_Since_Deliquency    0\ndtype: int64"
          },
          "metadata": {}
        }
      ]
    },
    {
      "metadata": {
        "trusted": true
      },
      "cell_type": "code",
      "source": "plt.figure(figsize=(15,5))\nplt.subplot(1,2,1)\nsns.distplot(train.Annual_Income);\nplt.subplot(1,2,2)\nsns.distplot(test.Annual_Income);",
      "execution_count": 22,
      "outputs": [
        {
          "output_type": "stream",
          "text": "/home/nbuser/anaconda3_501/lib/python3.6/site-packages/scipy/stats/stats.py:1713: FutureWarning: Using a non-tuple sequence for multidimensional indexing is deprecated; use `arr[tuple(seq)]` instead of `arr[seq]`. In the future this will be interpreted as an array index, `arr[np.array(seq)]`, which will result either in an error or a different result.\n  return np.add.reduce(sorted[indexer] * weights, axis=axis) / sumval\n",
          "name": "stderr"
        },
        {
          "output_type": "display_data",
          "data": {
            "image/png": "[encoded data removed]",
            "text/plain": "<Figure size 1080x360 with 2 Axes>"
          },
          "metadata": {
            "needs_background": "light"
          }
        }
      ]
    },
    {
      "metadata": {
        "trusted": true
      },
      "cell_type": "code",
      "source": "train[\"Income_Verified\"] = train[\"Income_Verified\"].astype('category')\ntrain[\"Income_Verified\"] = train[\"Income_Verified\"].cat.codes\ntrain[\"Purpose_Of_Loan\"] = train[\"Purpose_Of_Loan\"].astype('category')\ntrain[\"Purpose_Of_Loan\"] = train[\"Purpose_Of_Loan\"].cat.codes",
      "execution_count": 23,
      "outputs": []
    },
    {
      "metadata": {
        "trusted": true
      },
      "cell_type": "code",
      "source": "test[\"Income_Verified\"] = test[\"Income_Verified\"].astype('category')\ntest[\"Income_Verified\"] = test[\"Income_Verified\"].cat.codes\ntest[\"Purpose_Of_Loan\"] = test[\"Purpose_Of_Loan\"].astype('category')\ntest[\"Purpose_Of_Loan\"] = test[\"Purpose_Of_Loan\"].cat.codes",
      "execution_count": 24,
      "outputs": []
    },
    {
      "metadata": {
        "trusted": true
      },
      "cell_type": "code",
      "source": "train.info()",
      "execution_count": 25,
      "outputs": [
        {
          "output_type": "stream",
          "text": "<class 'pandas.core.frame.DataFrame'>\nRangeIndex: 164309 entries, 0 to 164308\nData columns (total 8 columns):\nLoan_Amount_Requested      164309 non-null object\nAnnual_Income              164309 non-null float64\nIncome_Verified            164309 non-null int8\nPurpose_Of_Loan            164309 non-null int8\nDebt_To_Income             164309 non-null float64\nInquiries_Last_6Mo         164309 non-null int64\nMonths_Since_Deliquency    164309 non-null int64\nInterest_Rate              164309 non-null int64\ndtypes: float64(2), int64(3), int8(2), object(1)\nmemory usage: 7.8+ MB\n",
          "name": "stdout"
        }
      ]
    },
    {
      "metadata": {
        "trusted": true
      },
      "cell_type": "code",
      "source": "test.info()",
      "execution_count": 26,
      "outputs": [
        {
          "output_type": "stream",
          "text": "<class 'pandas.core.frame.DataFrame'>\nRangeIndex: 109541 entries, 0 to 109540\nData columns (total 7 columns):\nLoan_Amount_Requested      109541 non-null object\nAnnual_Income              109541 non-null float64\nIncome_Verified            109541 non-null int8\nPurpose_Of_Loan            109541 non-null int8\nDebt_To_Income             109541 non-null float64\nInquiries_Last_6Mo         109541 non-null int64\nMonths_Since_Deliquency    109541 non-null int64\ndtypes: float64(2), int64(2), int8(2), object(1)\nmemory usage: 4.4+ MB\n",
          "name": "stdout"
        }
      ]
    },
    {
      "metadata": {
        "trusted": true
      },
      "cell_type": "code",
      "source": "train['Interest_Rate'] = train['Interest_Rate'].astype('category')\ntrain['Loan_Amount_Requested'] = train['Loan_Amount_Requested'].apply(lambda x: x.replace(',',''))\ntrain['Loan_Amount_Requested'] = train['Loan_Amount_Requested'].astype('float')\n\ntest['Loan_Amount_Requested'] = test['Loan_Amount_Requested'].apply(lambda x: x.replace(',',''))\ntest['Loan_Amount_Requested'] = test['Loan_Amount_Requested'].astype('float')",
      "execution_count": 27,
      "outputs": []
    },
    {
      "metadata": {
        "trusted": true
      },
      "cell_type": "code",
      "source": "train.info()",
      "execution_count": 28,
      "outputs": [
        {
          "output_type": "stream",
          "text": "<class 'pandas.core.frame.DataFrame'>\nRangeIndex: 164309 entries, 0 to 164308\nData columns (total 8 columns):\nLoan_Amount_Requested      164309 non-null float64\nAnnual_Income              164309 non-null float64\nIncome_Verified            164309 non-null int8\nPurpose_Of_Loan            164309 non-null int8\nDebt_To_Income             164309 non-null float64\nInquiries_Last_6Mo         164309 non-null int64\nMonths_Since_Deliquency    164309 non-null int64\nInterest_Rate              164309 non-null category\ndtypes: category(1), float64(3), int64(2), int8(2)\nmemory usage: 6.7 MB\n",
          "name": "stdout"
        }
      ]
    },
    {
      "metadata": {
        "trusted": true
      },
      "cell_type": "code",
      "source": "test.info()",
      "execution_count": 29,
      "outputs": [
        {
          "output_type": "stream",
          "text": "<class 'pandas.core.frame.DataFrame'>\nRangeIndex: 109541 entries, 0 to 109540\nData columns (total 7 columns):\nLoan_Amount_Requested      109541 non-null float64\nAnnual_Income              109541 non-null float64\nIncome_Verified            109541 non-null int8\nPurpose_Of_Loan            109541 non-null int8\nDebt_To_Income             109541 non-null float64\nInquiries_Last_6Mo         109541 non-null int64\nMonths_Since_Deliquency    109541 non-null int64\ndtypes: float64(3), int64(2), int8(2)\nmemory usage: 4.4 MB\n",
          "name": "stdout"
        }
      ]
    },
    {
      "metadata": {
        "trusted": true
      },
      "cell_type": "code",
      "source": "y = train['Interest_Rate']",
      "execution_count": 30,
      "outputs": []
    },
    {
      "metadata": {
        "trusted": true
      },
      "cell_type": "code",
      "source": "X = train.drop(['Interest_Rate'], axis=1)",
      "execution_count": 31,
      "outputs": []
    },
    {
      "metadata": {
        "trusted": true
      },
      "cell_type": "code",
      "source": "X.head()",
      "execution_count": 32,
      "outputs": [
        {
          "output_type": "execute_result",
          "execution_count": 32,
          "data": {
            "text/html": "<div>\n<style scoped>\n    .dataframe tbody tr th:only-of-type {\n        vertical-align: middle;\n    }\n\n    .dataframe tbody tr th {\n        vertical-align: top;\n    }\n\n    .dataframe thead th {\n        text-align: right;\n    }\n</style>\n<table border=\"1\" class=\"dataframe\">\n  <thead>\n    <tr style=\"text-align: right;\">\n      <th></th>\n      <th>Loan_Amount_Requested</th>\n      <th>Annual_Income</th>\n      <th>Income_Verified</th>\n      <th>Purpose_Of_Loan</th>\n      <th>Debt_To_Income</th>\n      <th>Inquiries_Last_6Mo</th>\n      <th>Months_Since_Deliquency</th>\n    </tr>\n  </thead>\n  <tbody>\n    <tr>\n      <th>0</th>\n      <td>7000.0</td>\n      <td>11.127263</td>\n      <td>2</td>\n      <td>0</td>\n      <td>18.37</td>\n      <td>0</td>\n      <td>0</td>\n    </tr>\n    <tr>\n      <th>1</th>\n      <td>30000.0</td>\n      <td>11.057788</td>\n      <td>0</td>\n      <td>2</td>\n      <td>14.93</td>\n      <td>0</td>\n      <td>1</td>\n    </tr>\n    <tr>\n      <th>2</th>\n      <td>24725.0</td>\n      <td>11.232767</td>\n      <td>1</td>\n      <td>2</td>\n      <td>15.88</td>\n      <td>0</td>\n      <td>0</td>\n    </tr>\n    <tr>\n      <th>3</th>\n      <td>16000.0</td>\n      <td>10.935960</td>\n      <td>1</td>\n      <td>2</td>\n      <td>14.34</td>\n      <td>3</td>\n      <td>0</td>\n    </tr>\n    <tr>\n      <th>4</th>\n      <td>17000.0</td>\n      <td>11.472103</td>\n      <td>1</td>\n      <td>2</td>\n      <td>22.17</td>\n      <td>1</td>\n      <td>0</td>\n    </tr>\n  </tbody>\n</table>\n</div>",
            "text/plain": "   Loan_Amount_Requested  Annual_Income  Income_Verified  Purpose_Of_Loan  \\\n0                 7000.0      11.127263                2                0   \n1                30000.0      11.057788                0                2   \n2                24725.0      11.232767                1                2   \n3                16000.0      10.935960                1                2   \n4                17000.0      11.472103                1                2   \n\n   Debt_To_Income  Inquiries_Last_6Mo  Months_Since_Deliquency  \n0           18.37                   0                        0  \n1           14.93                   0                        1  \n2           15.88                   0                        0  \n3           14.34                   3                        0  \n4           22.17                   1                        0  "
          },
          "metadata": {}
        }
      ]
    },
    {
      "metadata": {
        "trusted": true
      },
      "cell_type": "code",
      "source": "test.head()",
      "execution_count": 33,
      "outputs": [
        {
          "output_type": "execute_result",
          "execution_count": 33,
          "data": {
            "text/html": "<div>\n<style scoped>\n    .dataframe tbody tr th:only-of-type {\n        vertical-align: middle;\n    }\n\n    .dataframe tbody tr th {\n        vertical-align: top;\n    }\n\n    .dataframe thead th {\n        text-align: right;\n    }\n</style>\n<table border=\"1\" class=\"dataframe\">\n  <thead>\n    <tr style=\"text-align: right;\">\n      <th></th>\n      <th>Loan_Amount_Requested</th>\n      <th>Annual_Income</th>\n      <th>Income_Verified</th>\n      <th>Purpose_Of_Loan</th>\n      <th>Debt_To_Income</th>\n      <th>Inquiries_Last_6Mo</th>\n      <th>Months_Since_Deliquency</th>\n    </tr>\n  </thead>\n  <tbody>\n    <tr>\n      <th>0</th>\n      <td>27500.0</td>\n      <td>11.767568</td>\n      <td>0</td>\n      <td>2</td>\n      <td>12.87</td>\n      <td>0</td>\n      <td>1</td>\n    </tr>\n    <tr>\n      <th>1</th>\n      <td>26000.0</td>\n      <td>11.608236</td>\n      <td>2</td>\n      <td>1</td>\n      <td>11.37</td>\n      <td>0</td>\n      <td>0</td>\n    </tr>\n    <tr>\n      <th>2</th>\n      <td>6075.0</td>\n      <td>11.225243</td>\n      <td>0</td>\n      <td>2</td>\n      <td>6.83</td>\n      <td>2</td>\n      <td>0</td>\n    </tr>\n    <tr>\n      <th>3</th>\n      <td>12000.0</td>\n      <td>11.198215</td>\n      <td>1</td>\n      <td>2</td>\n      <td>7.76</td>\n      <td>0</td>\n      <td>0</td>\n    </tr>\n    <tr>\n      <th>4</th>\n      <td>35000.0</td>\n      <td>11.957611</td>\n      <td>2</td>\n      <td>2</td>\n      <td>9.62</td>\n      <td>0</td>\n      <td>1</td>\n    </tr>\n  </tbody>\n</table>\n</div>",
            "text/plain": "   Loan_Amount_Requested  Annual_Income  Income_Verified  Purpose_Of_Loan  \\\n0                27500.0      11.767568                0                2   \n1                26000.0      11.608236                2                1   \n2                 6075.0      11.225243                0                2   \n3                12000.0      11.198215                1                2   \n4                35000.0      11.957611                2                2   \n\n   Debt_To_Income  Inquiries_Last_6Mo  Months_Since_Deliquency  \n0           12.87                   0                        1  \n1           11.37                   0                        0  \n2            6.83                   2                        0  \n3            7.76                   0                        0  \n4            9.62                   0                        1  "
          },
          "metadata": {}
        }
      ]
    },
    {
      "metadata": {
        "trusted": true
      },
      "cell_type": "code",
      "source": "sns.heatmap(train.corr(), annot=True)",
      "execution_count": 34,
      "outputs": [
        {
          "output_type": "execute_result",
          "execution_count": 34,
          "data": {
            "text/plain": "<matplotlib.axes._subplots.AxesSubplot at 0x7f9a3a08c0b8>"
          },
          "metadata": {}
        },
        {
          "output_type": "display_data",
          "data": {
            "image/png": "[encoded data removed]",
            "text/plain": "<Figure size 432x288 with 2 Axes>"
          },
          "metadata": {
            "needs_background": "light"
          }
        }
      ]
    },
    {
      "metadata": {
        "trusted": true
      },
      "cell_type": "code",
      "source": "X_train, X_test, y_train, y_test = train_test_split(X, y, test_size=0.2, random_state=100)",
      "execution_count": 35,
      "outputs": []
    },
    {
      "metadata": {
        "trusted": true
      },
      "cell_type": "code",
      "source": "model_random = RandomForestClassifier()",
      "execution_count": 36,
      "outputs": []
    },
    {
      "metadata": {
        "trusted": true
      },
      "cell_type": "code",
      "source": "model_random.fit(X_train, y_train)",
      "execution_count": 37,
      "outputs": [
        {
          "output_type": "stream",
          "text": "/home/nbuser/anaconda3_501/lib/python3.6/site-packages/sklearn/ensemble/forest.py:246: FutureWarning: The default value of n_estimators will change from 10 in version 0.20 to 100 in 0.22.\n  \"10 in version 0.20 to 100 in 0.22.\", FutureWarning)\n",
          "name": "stderr"
        },
        {
          "output_type": "execute_result",
          "execution_count": 37,
          "data": {
            "text/plain": "RandomForestClassifier(bootstrap=True, class_weight=None, criterion='gini',\n            max_depth=None, max_features='auto', max_leaf_nodes=None,\n            min_impurity_decrease=0.0, min_impurity_split=None,\n            min_samples_leaf=1, min_samples_split=2,\n            min_weight_fraction_leaf=0.0, n_estimators=10, n_jobs=None,\n            oob_score=False, random_state=None, verbose=0,\n            warm_start=False)"
          },
          "metadata": {}
        }
      ]
    },
    {
      "metadata": {
        "trusted": true
      },
      "cell_type": "code",
      "source": "model_random.feature_importances_",
      "execution_count": 38,
      "outputs": [
        {
          "output_type": "execute_result",
          "execution_count": 38,
          "data": {
            "text/plain": "array([0.24671239, 0.25187154, 0.02709036, 0.05212336, 0.37336749,\n       0.03652678, 0.01230808])"
          },
          "metadata": {}
        }
      ]
    },
    {
      "metadata": {
        "trusted": true
      },
      "cell_type": "code",
      "source": "data = pd.Series(model_random.feature_importances_, index = X_train.columns)\ndata.sort_values(ascending=True, inplace=True) #petal length is most important feature\ndata.plot.barh()",
      "execution_count": 39,
      "outputs": [
        {
          "output_type": "execute_result",
          "execution_count": 39,
          "data": {
            "text/plain": "<matplotlib.axes._subplots.AxesSubplot at 0x7f9a3a49e588>"
          },
          "metadata": {}
        },
        {
          "output_type": "display_data",
          "data": {
            "image/png": "[encoded data removed]",
            "text/plain": "<Figure size 432x288 with 1 Axes>"
          },
          "metadata": {
            "needs_background": "light"
          }
        }
      ]
    },
    {
      "metadata": {
        "trusted": true
      },
      "cell_type": "code",
      "source": "model_random.score(X_train, y_train)",
      "execution_count": 40,
      "outputs": [
        {
          "output_type": "execute_result",
          "execution_count": 40,
          "data": {
            "text/plain": "0.9764619960896788"
          },
          "metadata": {}
        }
      ]
    },
    {
      "metadata": {
        "trusted": true
      },
      "cell_type": "code",
      "source": "y_pred_rf =model_random.predict(X_test)",
      "execution_count": 41,
      "outputs": []
    },
    {
      "metadata": {
        "trusted": true
      },
      "cell_type": "code",
      "source": "model_random.classes_",
      "execution_count": 42,
      "outputs": [
        {
          "output_type": "execute_result",
          "execution_count": 42,
          "data": {
            "text/plain": "array([1, 2, 3])"
          },
          "metadata": {}
        }
      ]
    },
    {
      "metadata": {
        "trusted": true
      },
      "cell_type": "code",
      "source": "confusion_matrix(y_test,y_pred_rf)",
      "execution_count": 43,
      "outputs": [
        {
          "output_type": "execute_result",
          "execution_count": 43,
          "data": {
            "text/plain": "array([[2134, 3290, 1286],\n       [2691, 7457, 3996],\n       [1307, 5148, 5553]])"
          },
          "metadata": {}
        }
      ]
    },
    {
      "metadata": {
        "trusted": true
      },
      "cell_type": "code",
      "source": "accuracy_score(y_test,y_pred_rf)",
      "execution_count": 44,
      "outputs": [
        {
          "output_type": "execute_result",
          "execution_count": 44,
          "data": {
            "text/plain": "0.4608362242103341"
          },
          "metadata": {}
        }
      ]
    },
    {
      "metadata": {
        "trusted": true
      },
      "cell_type": "code",
      "source": "classification_report(y_test, y_pred_rf)",
      "execution_count": 45,
      "outputs": [
        {
          "output_type": "execute_result",
          "execution_count": 45,
          "data": {
            "text/plain": "'              precision    recall  f1-score   support\\n\\n           1       0.35      0.32      0.33      6710\\n           2       0.47      0.53      0.50     14144\\n           3       0.51      0.46      0.49     12008\\n\\n   micro avg       0.46      0.46      0.46     32862\\n   macro avg       0.44      0.44      0.44     32862\\nweighted avg       0.46      0.46      0.46     32862\\n'"
          },
          "metadata": {}
        }
      ]
    },
    {
      "metadata": {},
      "cell_type": "markdown",
      "source": "# Using ADAPTIVE BOOSTING TECHNIQUE"
    },
    {
      "metadata": {
        "trusted": true
      },
      "cell_type": "code",
      "source": "model_ada = AdaBoostClassifier(n_estimators=120, random_state = 10)",
      "execution_count": 46,
      "outputs": []
    },
    {
      "metadata": {
        "trusted": true
      },
      "cell_type": "code",
      "source": "model_ada.fit(X_train, y_train)",
      "execution_count": 47,
      "outputs": [
        {
          "output_type": "execute_result",
          "execution_count": 47,
          "data": {
            "text/plain": "AdaBoostClassifier(algorithm='SAMME.R', base_estimator=None,\n          learning_rate=1.0, n_estimators=120, random_state=10)"
          },
          "metadata": {}
        }
      ]
    },
    {
      "metadata": {
        "trusted": true
      },
      "cell_type": "code",
      "source": "model_ada.score(X_train, y_train)",
      "execution_count": 48,
      "outputs": [
        {
          "output_type": "execute_result",
          "execution_count": 48,
          "data": {
            "text/plain": "0.5251394098001476"
          },
          "metadata": {}
        }
      ]
    },
    {
      "metadata": {
        "trusted": true
      },
      "cell_type": "code",
      "source": "y_pred_ada = model_ada.predict(X_test)",
      "execution_count": 49,
      "outputs": []
    },
    {
      "metadata": {
        "trusted": true
      },
      "cell_type": "code",
      "source": "accuracy_score(y_test, y_pred_ada)",
      "execution_count": 50,
      "outputs": [
        {
          "output_type": "execute_result",
          "execution_count": 50,
          "data": {
            "text/plain": "0.520296999573976"
          },
          "metadata": {}
        }
      ]
    },
    {
      "metadata": {},
      "cell_type": "markdown",
      "source": "### Accuracy is 52.03% and f1-Score is 58%"
    },
    {
      "metadata": {
        "trusted": true
      },
      "cell_type": "code",
      "source": "classification_report(y_test, y_pred_ada)",
      "execution_count": 51,
      "outputs": [
        {
          "output_type": "execute_result",
          "execution_count": 51,
          "data": {
            "text/plain": "'              precision    recall  f1-score   support\\n\\n           1       0.50      0.18      0.27      6710\\n           2       0.49      0.66      0.56     14144\\n           3       0.58      0.55      0.56     12008\\n\\n   micro avg       0.52      0.52      0.52     32862\\n   macro avg       0.52      0.46      0.46     32862\\nweighted avg       0.52      0.52      0.50     32862\\n'"
          },
          "metadata": {}
        }
      ]
    },
    {
      "metadata": {},
      "cell_type": "markdown",
      "source": "# Using ADAPTIVE BOOSTING TECHNIQUE"
    },
    {
      "metadata": {
        "trusted": true
      },
      "cell_type": "code",
      "source": "test_predict = model_ada.predict(test)",
      "execution_count": 52,
      "outputs": []
    },
    {
      "metadata": {
        "trusted": true
      },
      "cell_type": "code",
      "source": "test_predict",
      "execution_count": 53,
      "outputs": [
        {
          "output_type": "execute_result",
          "execution_count": 53,
          "data": {
            "text/plain": "array([3, 1, 2, ..., 2, 3, 2])"
          },
          "metadata": {}
        }
      ]
    },
    {
      "metadata": {
        "trusted": true
      },
      "cell_type": "code",
      "source": "test['test_predict'] = test_predict",
      "execution_count": 54,
      "outputs": []
    },
    {
      "metadata": {
        "trusted": true
      },
      "cell_type": "code",
      "source": "test.head()",
      "execution_count": 55,
      "outputs": [
        {
          "output_type": "execute_result",
          "execution_count": 55,
          "data": {
            "text/html": "<div>\n<style scoped>\n    .dataframe tbody tr th:only-of-type {\n        vertical-align: middle;\n    }\n\n    .dataframe tbody tr th {\n        vertical-align: top;\n    }\n\n    .dataframe thead th {\n        text-align: right;\n    }\n</style>\n<table border=\"1\" class=\"dataframe\">\n  <thead>\n    <tr style=\"text-align: right;\">\n      <th></th>\n      <th>Loan_Amount_Requested</th>\n      <th>Annual_Income</th>\n      <th>Income_Verified</th>\n      <th>Purpose_Of_Loan</th>\n      <th>Debt_To_Income</th>\n      <th>Inquiries_Last_6Mo</th>\n      <th>Months_Since_Deliquency</th>\n      <th>test_predict</th>\n    </tr>\n  </thead>\n  <tbody>\n    <tr>\n      <th>0</th>\n      <td>27500.0</td>\n      <td>11.767568</td>\n      <td>0</td>\n      <td>2</td>\n      <td>12.87</td>\n      <td>0</td>\n      <td>1</td>\n      <td>3</td>\n    </tr>\n    <tr>\n      <th>1</th>\n      <td>26000.0</td>\n      <td>11.608236</td>\n      <td>2</td>\n      <td>1</td>\n      <td>11.37</td>\n      <td>0</td>\n      <td>0</td>\n      <td>1</td>\n    </tr>\n    <tr>\n      <th>2</th>\n      <td>6075.0</td>\n      <td>11.225243</td>\n      <td>0</td>\n      <td>2</td>\n      <td>6.83</td>\n      <td>2</td>\n      <td>0</td>\n      <td>2</td>\n    </tr>\n    <tr>\n      <th>3</th>\n      <td>12000.0</td>\n      <td>11.198215</td>\n      <td>1</td>\n      <td>2</td>\n      <td>7.76</td>\n      <td>0</td>\n      <td>0</td>\n      <td>2</td>\n    </tr>\n    <tr>\n      <th>4</th>\n      <td>35000.0</td>\n      <td>11.957611</td>\n      <td>2</td>\n      <td>2</td>\n      <td>9.62</td>\n      <td>0</td>\n      <td>1</td>\n      <td>2</td>\n    </tr>\n  </tbody>\n</table>\n</div>",
            "text/plain": "   Loan_Amount_Requested  Annual_Income  Income_Verified  Purpose_Of_Loan  \\\n0                27500.0      11.767568                0                2   \n1                26000.0      11.608236                2                1   \n2                 6075.0      11.225243                0                2   \n3                12000.0      11.198215                1                2   \n4                35000.0      11.957611                2                2   \n\n   Debt_To_Income  Inquiries_Last_6Mo  Months_Since_Deliquency  test_predict  \n0           12.87                   0                        1             3  \n1           11.37                   0                        0             1  \n2            6.83                   2                        0             2  \n3            7.76                   0                        0             2  \n4            9.62                   0                        1             2  "
          },
          "metadata": {}
        }
      ]
    },
    {
      "metadata": {
        "trusted": true
      },
      "cell_type": "code",
      "source": "submission = test[['test_predict']]",
      "execution_count": 56,
      "outputs": []
    },
    {
      "metadata": {
        "trusted": true
      },
      "cell_type": "code",
      "source": "submission.to_csv('submission.csv')",
      "execution_count": 57,
      "outputs": []
    },
    {
      "metadata": {
        "trusted": true
      },
      "cell_type": "code",
      "source": "",
      "execution_count": null,
      "outputs": []
    }
  ],
  "metadata": {
    "kernelspec": {
      "name": "python36",
      "display_name": "Python 3.6",
      "language": "python"
    },
    "language_info": {
      "mimetype": "text/x-python",
      "nbconvert_exporter": "python",
      "name": "python",
      "pygments_lexer": "ipython3",
      "version": "3.6.6",
      "file_extension": ".py",
      "codemirror_mode": {
        "version": 3,
        "name": "ipython"
      }
    }
  },
  "nbformat": 4,
  "nbformat_minor": 2
}